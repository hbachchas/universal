{
 "cells": [
  {
   "cell_type": "code",
   "execution_count": 1,
   "metadata": {},
   "outputs": [
    {
     "name": "stderr",
     "output_type": "stream",
     "text": [
      "Using TensorFlow backend.\n"
     ]
    },
    {
     "name": "stdout",
     "output_type": "stream",
     "text": [
      "done\n"
     ]
    }
   ],
   "source": [
    "import numpy\n",
    "from keras.datasets import cifar10\n",
    "from keras.models import Sequential\n",
    "from keras.layers import Dense\n",
    "from keras.layers import Dropout\n",
    "from keras.layers import Flatten\n",
    "from keras.constraints import maxnorm\n",
    "from keras.optimizers import SGD\n",
    "from keras.layers.convolutional import Conv2D\n",
    "from keras.layers.convolutional import MaxPooling2D\n",
    "from keras.layers.normalization import BatchNormalization\n",
    "from keras.layers import Activation\n",
    "from keras.utils import np_utils\n",
    "from keras.layers import Input\n",
    "from keras.models import Model\n",
    "\n",
    "print('done')"
   ]
  },
  {
   "cell_type": "code",
   "execution_count": 2,
   "metadata": {},
   "outputs": [
    {
     "name": "stdout",
     "output_type": "stream",
     "text": [
      "done\n"
     ]
    }
   ],
   "source": [
    "# fix random seed for reproducibility\n",
    "seed = 7\n",
    "numpy.random.seed(seed)\n",
    "print('done')"
   ]
  },
  {
   "cell_type": "code",
   "execution_count": 3,
   "metadata": {},
   "outputs": [
    {
     "name": "stdout",
     "output_type": "stream",
     "text": [
      "Loading dataset...\n",
      "pos files:  2002\n",
      "neg files:  2001\n",
      "Dataset loaded. \n"
     ]
    }
   ],
   "source": [
    "# load data\n",
    "print('Loading dataset...')\n",
    "from my_dataset_loaders import load_dataset_RGB\n",
    "X1_train, X2_train, X3_train, y_train, X1_test, X2_test, X3_test, y_test = load_dataset_OF_BW()\n",
    "print('Dataset loaded.')"
   ]
  },
  {
   "cell_type": "code",
   "execution_count": null,
   "metadata": {},
   "outputs": [],
   "source": [
    "print(X1_train.shape)\n",
    "import cv2\n",
    "cv2.imshow(\"Image X1\", X1_train[2,:,:,:])\n",
    "cv2.imshow(\"Image X2\", X2_train[2,:,:,:])\n",
    "cv2.imshow(\"Image X3\", X3_train[2,:,:,:])\n",
    "print(y_train[3])\n",
    "cv2.waitKey(0)"
   ]
  },
  {
   "cell_type": "code",
   "execution_count": null,
   "metadata": {},
   "outputs": [],
   "source": [
    "import cv2\n",
    "im  = cv2.read('/home/himanshu/Pictures/1.jpg')\n",
    "cv2.imshow(\"Image X3\", im)\n",
    "cv2.waitKey(0)"
   ]
  },
  {
   "cell_type": "code",
   "execution_count": 4,
   "metadata": {},
   "outputs": [
    {
     "name": "stdout",
     "output_type": "stream",
     "text": [
      "done\n"
     ]
    }
   ],
   "source": [
    "# Define the vision modules\n",
    "\n",
    "s_input = Input(shape=(96, 128, 3))\n",
    "# x = Conv2D(64, (3, 3), padding='same', kernel_constraint=maxnorm(3))(s_input)\n",
    "x = Conv2D(64, (3, 3), padding='same', kernel_constraint=maxnorm(3))(s_input)\n",
    "x = BatchNormalization()(x)\n",
    "x = Activation('relu')(x)\n",
    "# x = Dropout(0.2)(x)\n",
    "x = Conv2D(64, (3, 3), activation='relu', padding='same', kernel_constraint=maxnorm(3))(x)\n",
    "x = MaxPooling2D(pool_size=(2, 2))(x)\n",
    "x = BatchNormalization()(x)\n",
    "x = Conv2D(96, (3, 3), activation='relu', padding='same', kernel_constraint=maxnorm(3))(x)\n",
    "x = Conv2D(96, (3, 3), activation='relu', padding='same', kernel_constraint=maxnorm(3))(x)\n",
    "x = MaxPooling2D(pool_size=(2, 2))(x)\n",
    "x = BatchNormalization()(x)\n",
    "x = Conv2D(128, (3, 3), activation='relu', padding='same', kernel_constraint=maxnorm(3))(x)\n",
    "x = Conv2D(128, (3, 3), activation='relu', padding='same', kernel_constraint=maxnorm(3))(x)\n",
    "x = MaxPooling2D(pool_size=(2, 2))(x)\n",
    "x = Flatten()(x)\n",
    "x = Dense(256, activation='relu', kernel_constraint=maxnorm(3))(x)\n",
    "x = Dropout(0.5)(x)\n",
    "x = Dense(256, activation='relu', kernel_constraint=maxnorm(3))(x)\n",
    "out = Dropout(0.5)(x)\n",
    "print('done')"
   ]
  },
  {
   "cell_type": "code",
   "execution_count": 5,
   "metadata": {},
   "outputs": [
    {
     "name": "stdout",
     "output_type": "stream",
     "text": [
      "done\n"
     ]
    }
   ],
   "source": [
    "vision_model = Model(s_input, out)\n",
    "print('done')"
   ]
  },
  {
   "cell_type": "code",
   "execution_count": 6,
   "metadata": {},
   "outputs": [
    {
     "name": "stdout",
     "output_type": "stream",
     "text": [
      "done\n"
     ]
    }
   ],
   "source": [
    "# Then define the input-apart model\n",
    "s_a = Input(shape=(96, 128, 3))\n",
    "s_b = Input(shape=(96, 128, 3))\n",
    "s_c = Input(shape=(96, 128, 3))\n",
    "print('done')"
   ]
  },
  {
   "cell_type": "code",
   "execution_count": 7,
   "metadata": {},
   "outputs": [
    {
     "name": "stdout",
     "output_type": "stream",
     "text": [
      "done\n"
     ]
    }
   ],
   "source": [
    "# The vision model will be shared\n",
    "out_a = vision_model(s_a)\n",
    "out_b = vision_model(s_b)\n",
    "out_c = vision_model(s_c)\n",
    "print('done')"
   ]
  },
  {
   "cell_type": "code",
   "execution_count": 8,
   "metadata": {},
   "outputs": [
    {
     "name": "stdout",
     "output_type": "stream",
     "text": [
      "done\n"
     ]
    }
   ],
   "source": [
    "import keras\n",
    "concatenated = keras.layers.concatenate([out_a, out_b, out_c])\n",
    "out = Dense(1, activation='sigmoid')(concatenated)\n",
    "print('done')"
   ]
  },
  {
   "cell_type": "code",
   "execution_count": 9,
   "metadata": {},
   "outputs": [
    {
     "name": "stdout",
     "output_type": "stream",
     "text": [
      "done\n"
     ]
    }
   ],
   "source": [
    "classification_model = Model([s_a, s_b, s_c], out)\n",
    "print('done')"
   ]
  },
  {
   "cell_type": "code",
   "execution_count": 10,
   "metadata": {},
   "outputs": [
    {
     "name": "stdout",
     "output_type": "stream",
     "text": [
      "__________________________________________________________________________________________________\n",
      "Layer (type)                    Output Shape         Param #     Connected to                     \n",
      "==================================================================================================\n",
      "input_2 (InputLayer)            (None, 96, 128, 3)   0                                            \n",
      "__________________________________________________________________________________________________\n",
      "input_3 (InputLayer)            (None, 96, 128, 3)   0                                            \n",
      "__________________________________________________________________________________________________\n",
      "input_4 (InputLayer)            (None, 96, 128, 3)   0                                            \n",
      "__________________________________________________________________________________________________\n",
      "model_1 (Model)                 (None, 256)          6793856     input_2[0][0]                    \n",
      "                                                                 input_3[0][0]                    \n",
      "                                                                 input_4[0][0]                    \n",
      "__________________________________________________________________________________________________\n",
      "concatenate_1 (Concatenate)     (None, 768)          0           model_1[1][0]                    \n",
      "                                                                 model_1[2][0]                    \n",
      "                                                                 model_1[3][0]                    \n",
      "__________________________________________________________________________________________________\n",
      "dense_3 (Dense)                 (None, 1)            769         concatenate_1[0][0]              \n",
      "==================================================================================================\n",
      "Total params: 6,794,625\n",
      "Trainable params: 6,794,177\n",
      "Non-trainable params: 448\n",
      "__________________________________________________________________________________________________\n",
      "None\n",
      "done\n"
     ]
    }
   ],
   "source": [
    "# Compile model\n",
    "\n",
    "epochs = 30\n",
    "lrate = 0.01\n",
    "decay = lrate/epochs\n",
    "sgd = SGD(lr=lrate, momentum=0.9, decay=decay, nesterov=False)\n",
    "classification_model.compile(loss='binary_crossentropy', optimizer=sgd, metrics=['accuracy'])\n",
    "print(classification_model.summary())\n",
    "print('done')"
   ]
  },
  {
   "cell_type": "code",
   "execution_count": 11,
   "metadata": {},
   "outputs": [
    {
     "name": "stdout",
     "output_type": "stream",
     "text": [
      "Train on 800 samples, validate on 200 samples\n",
      "Epoch 1/30\n",
      "800/800 [==============================] - 41s 51ms/step - loss: 0.8525 - acc: 0.5375 - val_loss: 0.7006 - val_acc: 0.5000\n",
      "Epoch 2/30\n",
      "800/800 [==============================] - 34s 42ms/step - loss: 0.7013 - acc: 0.5288 - val_loss: 0.7200 - val_acc: 0.5050\n",
      "Epoch 3/30\n",
      "800/800 [==============================] - 34s 42ms/step - loss: 0.7019 - acc: 0.4913 - val_loss: 0.6884 - val_acc: 0.5400\n",
      "Epoch 4/30\n",
      "800/800 [==============================] - 34s 42ms/step - loss: 0.6887 - acc: 0.5363 - val_loss: 0.6945 - val_acc: 0.5750\n",
      "Epoch 5/30\n",
      "800/800 [==============================] - 34s 42ms/step - loss: 0.6945 - acc: 0.5463 - val_loss: 0.6983 - val_acc: 0.5550\n",
      "Epoch 6/30\n",
      "800/800 [==============================] - 35s 44ms/step - loss: 0.6754 - acc: 0.5775 - val_loss: 0.7186 - val_acc: 0.5250\n",
      "Epoch 7/30\n",
      "800/800 [==============================] - 34s 42ms/step - loss: 0.6560 - acc: 0.5787 - val_loss: 0.7387 - val_acc: 0.4950\n",
      "Epoch 8/30\n",
      "800/800 [==============================] - 34s 42ms/step - loss: 0.6313 - acc: 0.6412 - val_loss: 0.8489 - val_acc: 0.5500\n",
      "Epoch 9/30\n",
      "800/800 [==============================] - 34s 42ms/step - loss: 0.5836 - acc: 0.6800 - val_loss: 0.8613 - val_acc: 0.4750\n",
      "Epoch 10/30\n",
      "800/800 [==============================] - 34s 42ms/step - loss: 0.5960 - acc: 0.7225 - val_loss: 0.8288 - val_acc: 0.5350\n",
      "Epoch 11/30\n",
      "800/800 [==============================] - 34s 42ms/step - loss: 0.5304 - acc: 0.7275 - val_loss: 0.8596 - val_acc: 0.5350\n",
      "Epoch 12/30\n",
      "800/800 [==============================] - 34s 42ms/step - loss: 0.4777 - acc: 0.7512 - val_loss: 1.1405 - val_acc: 0.5200\n",
      "Epoch 13/30\n",
      "800/800 [==============================] - 34s 42ms/step - loss: 0.4512 - acc: 0.7712 - val_loss: 1.1925 - val_acc: 0.5000\n",
      "Epoch 14/30\n",
      "800/800 [==============================] - 34s 42ms/step - loss: 0.4282 - acc: 0.7825 - val_loss: 0.9317 - val_acc: 0.4600\n",
      "Epoch 15/30\n",
      "800/800 [==============================] - 34s 42ms/step - loss: 0.3397 - acc: 0.8337 - val_loss: 1.3952 - val_acc: 0.4750\n",
      "Epoch 16/30\n",
      "800/800 [==============================] - 34s 42ms/step - loss: 0.3334 - acc: 0.8300 - val_loss: 1.2646 - val_acc: 0.4550\n",
      "Epoch 17/30\n",
      "800/800 [==============================] - 34s 42ms/step - loss: 0.2903 - acc: 0.8687 - val_loss: 1.7275 - val_acc: 0.4750\n",
      "Epoch 18/30\n",
      "800/800 [==============================] - 34s 42ms/step - loss: 0.2396 - acc: 0.8825 - val_loss: 1.5285 - val_acc: 0.5150\n",
      "Epoch 19/30\n",
      "800/800 [==============================] - 34s 42ms/step - loss: 0.2582 - acc: 0.8938 - val_loss: 1.2892 - val_acc: 0.4550\n",
      "Epoch 20/30\n",
      "800/800 [==============================] - 34s 42ms/step - loss: 0.2127 - acc: 0.9225 - val_loss: 1.6532 - val_acc: 0.4450\n",
      "Epoch 21/30\n",
      "800/800 [==============================] - 34s 42ms/step - loss: 0.1683 - acc: 0.9263 - val_loss: 2.0701 - val_acc: 0.4550\n",
      "Epoch 22/30\n",
      "800/800 [==============================] - 34s 42ms/step - loss: 0.1761 - acc: 0.9275 - val_loss: 2.2418 - val_acc: 0.4800\n",
      "Epoch 23/30\n",
      "800/800 [==============================] - 34s 42ms/step - loss: 0.1511 - acc: 0.9337 - val_loss: 2.2932 - val_acc: 0.4650\n",
      "Epoch 24/30\n",
      "800/800 [==============================] - 34s 42ms/step - loss: 0.2785 - acc: 0.9025 - val_loss: 1.5672 - val_acc: 0.4550\n",
      "Epoch 25/30\n",
      "800/800 [==============================] - 34s 42ms/step - loss: 0.1869 - acc: 0.9175 - val_loss: 1.9439 - val_acc: 0.4550\n",
      "Epoch 26/30\n",
      "800/800 [==============================] - 34s 42ms/step - loss: 0.1650 - acc: 0.9337 - val_loss: 2.0342 - val_acc: 0.4100\n",
      "Epoch 27/30\n",
      "800/800 [==============================] - 34s 42ms/step - loss: 0.1225 - acc: 0.9450 - val_loss: 2.5534 - val_acc: 0.4150\n",
      "Epoch 28/30\n",
      "800/800 [==============================] - 34s 42ms/step - loss: 0.1036 - acc: 0.9587 - val_loss: 2.7277 - val_acc: 0.4050\n",
      "Epoch 29/30\n",
      "800/800 [==============================] - 34s 42ms/step - loss: 0.1021 - acc: 0.9537 - val_loss: 2.5698 - val_acc: 0.3950\n",
      "Epoch 30/30\n",
      "800/800 [==============================] - 34s 42ms/step - loss: 0.0882 - acc: 0.9688 - val_loss: 2.9459 - val_acc: 0.4300\n",
      "done\n"
     ]
    }
   ],
   "source": [
    "# Fit the model\n",
    "\n",
    "from keras.callbacks import CSVLogger\n",
    "csv_logger = CSVLogger('./evaluation/log.csv', append=True, separator=';')\n",
    "\n",
    "history = classification_model.fit([X1_train, X2_train, X3_train], y_train, validation_data=([X1_test, X2_test, X3_test], y_test), epochs=epochs, batch_size=32, verbose=1, callbacks=[csv_logger])\n",
    "print('done')"
   ]
  },
  {
   "cell_type": "code",
   "execution_count": 12,
   "metadata": {},
   "outputs": [
    {
     "name": "stdout",
     "output_type": "stream",
     "text": [
      "Model saved to disk\n"
     ]
    }
   ],
   "source": [
    "# Save model architecture and weights\n",
    "\n",
    "# serialize model to JSON\n",
    "model_json = classification_model.to_json()\n",
    "with open(\"./evaluation/model.json\", \"w\") as json_file:\n",
    "    json_file.write(model_json)\n",
    "# serialize weights to HDF5\n",
    "classification_model.save_weights(\"./evaluation/model.h5\")\n",
    "print(\"Model saved to disk\")"
   ]
  },
  {
   "cell_type": "code",
   "execution_count": 13,
   "metadata": {},
   "outputs": [
    {
     "name": "stdout",
     "output_type": "stream",
     "text": [
      "Accuracy: 43.00%\n"
     ]
    }
   ],
   "source": [
    "# Final evaluation of the model\n",
    "\n",
    "scores = classification_model.evaluate([X1_test, X2_test, X3_test], y_test, verbose=0)\n",
    "print(\"Accuracy: %.2f%%\" % (scores[1]*100))"
   ]
  },
  {
   "cell_type": "code",
   "execution_count": 14,
   "metadata": {},
   "outputs": [
    {
     "data": {
      "image/png": "[encoded data removed]",
      "text/plain": [
       "<Figure size 432x288 with 1 Axes>"
      ]
     },
     "metadata": {
      "needs_background": "light"
     },
     "output_type": "display_data"
    },
    {
     "data": {
      "image/png": "[encoded data removed]",
      "text/plain": [
       "<Figure size 432x288 with 1 Axes>"
      ]
     },
     "metadata": {
      "needs_background": "light"
     },
     "output_type": "display_data"
    }
   ],
   "source": [
    "# Visualize the training progress     # keep verbose=1 in model.fit()\n",
    "\n",
    "%matplotlib inline\n",
    "import matplotlib.pyplot as plt\n",
    "from matplotlib.pyplot import figure, draw\n",
    "\n",
    "# Plot training & validation accuracy values\n",
    "plt.figure()\n",
    "plt.plot(history.history['acc'])\n",
    "plt.plot(history.history['val_acc'])\n",
    "plt.title('Model accuracy')\n",
    "plt.ylabel('Accuracy')\n",
    "plt.xlabel('Epoch')\n",
    "plt.legend(['Train', 'Test'], loc='upper left')\n",
    "# plt.show()\n",
    "plt.savefig('./evaluation/Acc.eps', format='eps', dpi=400)\n",
    "\n",
    "# Plot training & validation loss values\n",
    "plt.figure()\n",
    "plt.plot(history.history['loss'])\n",
    "plt.plot(history.history['val_loss'])\n",
    "plt.title('Model loss')\n",
    "plt.ylabel('Loss')\n",
    "plt.xlabel('Epoch')\n",
    "plt.legend(['Train', 'Test'], loc='lower left')\n",
    "# plt.show()\n",
    "plt.savefig('./evaluation/Loss.eps', format='eps', dpi=400)"
   ]
  },
  {
   "cell_type": "code",
   "execution_count": null,
   "metadata": {},
   "outputs": [],
   "source": []
  },
  {
   "cell_type": "code",
   "execution_count": 16,
   "metadata": {},
   "outputs": [
    {
     "name": "stdout",
     "output_type": "stream",
     "text": [
      "Model loaded from disk\n"
     ]
    }
   ],
   "source": [
    "# Load the model architecture and weights\n",
    "\n",
    "from keras.models import model_from_json\n",
    "\n",
    "# load json and create model\n",
    "json_file = open(\"./evaluation/model.json\", 'r')\n",
    "loaded_model_json = json_file.read()\n",
    "json_file.close()\n",
    "loaded_model = model_from_json(loaded_model_json)\n",
    "# load weights into new model\n",
    "loaded_model.load_weights(\"./evaluation/model.h5\")\n",
    "classification_model = loaded_model\n",
    "print(\"Model loaded from disk\")"
   ]
  },
  {
   "cell_type": "code",
   "execution_count": null,
   "metadata": {},
   "outputs": [],
   "source": []
  },
  {
   "cell_type": "code",
   "execution_count": null,
   "metadata": {},
   "outputs": [],
   "source": []
  },
  {
   "cell_type": "code",
   "execution_count": null,
   "metadata": {},
   "outputs": [],
   "source": []
  },
  {
   "cell_type": "code",
   "execution_count": null,
   "metadata": {},
   "outputs": [],
   "source": [
    "import keras\n",
    "from keras.layers import Input, LSTM, Dense\n",
    "from keras.models import Model\n",
    "\n",
    "tweet_a = Input(shape=(280, 256))\n",
    "tweet_b = Input(shape=(280, 256))"
   ]
  },
  {
   "cell_type": "code",
   "execution_count": null,
   "metadata": {},
   "outputs": [],
   "source": []
  },
  {
   "cell_type": "code",
   "execution_count": null,
   "metadata": {},
   "outputs": [],
   "source": [
    "# This layer can take as input a matrix\n",
    "# and will return a vector of size 64\n",
    "shared_lstm = LSTM(64)\n",
    "\n",
    "# When we reuse the same layer instance\n",
    "# multiple times, the weights of the layer\n",
    "# are also being reused\n",
    "# (it is effectively *the same* layer)\n",
    "encoded_a = shared_lstm(tweet_a)\n",
    "encoded_b = shared_lstm(tweet_b)\n",
    "\n",
    "# We can then concatenate the two vectors:\n",
    "merged_vector = keras.layers.concatenate([encoded_a, encoded_b], axis=-1)\n",
    "\n",
    "# And add a logistic regression on top\n",
    "predictions = Dense(1, activation='sigmoid')(merged_vector)\n",
    "\n",
    "# We define a trainable model linking the\n",
    "# tweet inputs to the predictions\n",
    "model = Model(inputs=[tweet_a, tweet_b], outputs=predictions)\n",
    "\n",
    "model.compile(optimizer='rmsprop',\n",
    "              loss='binary_crossentropy',\n",
    "              metrics=['accuracy'])\n",
    "model.fit([data_a, data_b], labels, epochs=10)"
   ]
  },
  {
   "cell_type": "code",
   "execution_count": null,
   "metadata": {},
   "outputs": [],
   "source": [
    "from keras.layers import Conv2D, MaxPooling2D, Input, Dense, Flatten\n",
    "from keras.models import Model\n",
    "\n",
    "# First, define the vision modules\n",
    "digit_input = Input(shape=(27, 27, 1))\n",
    "x = Conv2D(64, (3, 3))(digit_input)\n",
    "x = Conv2D(64, (3, 3))(x)\n",
    "x = MaxPooling2D((2, 2))(x)\n",
    "out = Flatten()(x)\n",
    "\n",
    "vision_model = Model(digit_input, out)\n",
    "\n",
    "# Then define the tell-digits-apart model\n",
    "digit_a = Input(shape=(27, 27, 1))\n",
    "digit_b = Input(shape=(27, 27, 1))\n",
    "\n",
    "# The vision model will be shared, weights and all\n",
    "out_a = vision_model(digit_a)\n",
    "out_b = vision_model(digit_b)\n",
    "\n",
    "concatenated = keras.layers.concatenate([out_a, out_b])\n",
    "out = Dense(1, activation='sigmoid')(concatenated)\n",
    "\n",
    "classification_model = Model([digit_a, digit_b], out)"
   ]
  }
 ],
 "metadata": {
  "kernelspec": {
   "display_name": "Python 3",
   "language": "python",
   "name": "python3"
  },
  "language_info": {
   "codemirror_mode": {
    "name": "ipython",
    "version": 3
   },
   "file_extension": ".py",
   "mimetype": "text/x-python",
   "name": "python",
   "nbconvert_exporter": "python",
   "pygments_lexer": "ipython3",
   "version": "3.5.6"
  }
 },
 "nbformat": 4,
 "nbformat_minor": 2
}
